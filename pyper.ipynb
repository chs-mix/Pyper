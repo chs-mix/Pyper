{
 "cells": [
  {
   "cell_type": "code",
   "execution_count": 1,
   "metadata": {},
   "outputs": [],
   "source": [
    "from pyper.viper_interface.viper_classes import PolhemusViper\n",
    "from pyper.io.io_utils import extract_data_from_standard_frame\n",
    "from threading import Event\n",
    "from multiprocessing.pool import ThreadPool\n",
    "import time\n",
    "import pandas as pd\n",
    "import pickle\n",
    "import os\n"
   ]
  },
  {
   "cell_type": "code",
   "execution_count": 2,
   "metadata": {},
   "outputs": [],
   "source": [
    "viper = PolhemusViper()\n",
    "viper.connect()"
   ]
  },
  {
   "cell_type": "code",
   "execution_count": 3,
   "metadata": {},
   "outputs": [
    {
     "name": "stdout",
     "output_type": "stream",
     "text": [
      "The current position units are: cm\n",
      "The current orientation units are: euler_degree\n"
     ]
    }
   ],
   "source": [
    "viper.get_units()"
   ]
  },
  {
   "cell_type": "code",
   "execution_count": 9,
   "metadata": {},
   "outputs": [
    {
     "data": {
      "text/html": [
       "<div>\n",
       "<style scoped>\n",
       "    .dataframe tbody tr th:only-of-type {\n",
       "        vertical-align: middle;\n",
       "    }\n",
       "\n",
       "    .dataframe tbody tr th {\n",
       "        vertical-align: top;\n",
       "    }\n",
       "\n",
       "    .dataframe thead th {\n",
       "        text-align: right;\n",
       "    }\n",
       "</style>\n",
       "<table border=\"1\" class=\"dataframe\">\n",
       "  <thead>\n",
       "    <tr style=\"text-align: right;\">\n",
       "      <th></th>\n",
       "      <th>sensor_n</th>\n",
       "      <th>frames</th>\n",
       "      <th>time</th>\n",
       "      <th>x</th>\n",
       "      <th>y</th>\n",
       "      <th>z</th>\n",
       "      <th>azimuth</th>\n",
       "      <th>elevation</th>\n",
       "      <th>roll</th>\n",
       "    </tr>\n",
       "  </thead>\n",
       "  <tbody>\n",
       "    <tr>\n",
       "      <th>0</th>\n",
       "      <td>1</td>\n",
       "      <td>33179</td>\n",
       "      <td>2022-05-25T10:45:28.817501</td>\n",
       "      <td>36.523415</td>\n",
       "      <td>4.732285</td>\n",
       "      <td>8.601525</td>\n",
       "      <td>95.271935</td>\n",
       "      <td>2.540353</td>\n",
       "      <td>52.533340</td>\n",
       "    </tr>\n",
       "    <tr>\n",
       "      <th>1</th>\n",
       "      <td>2</td>\n",
       "      <td>33179</td>\n",
       "      <td>2022-05-25T10:45:28.817501</td>\n",
       "      <td>17.669222</td>\n",
       "      <td>-3.788903</td>\n",
       "      <td>3.877875</td>\n",
       "      <td>149.130753</td>\n",
       "      <td>5.118566</td>\n",
       "      <td>12.756581</td>\n",
       "    </tr>\n",
       "    <tr>\n",
       "      <th>2</th>\n",
       "      <td>3</td>\n",
       "      <td>33179</td>\n",
       "      <td>2022-05-25T10:45:28.817501</td>\n",
       "      <td>36.957561</td>\n",
       "      <td>5.087067</td>\n",
       "      <td>9.770947</td>\n",
       "      <td>51.868900</td>\n",
       "      <td>-24.304998</td>\n",
       "      <td>155.963577</td>\n",
       "    </tr>\n",
       "    <tr>\n",
       "      <th>3</th>\n",
       "      <td>4</td>\n",
       "      <td>33179</td>\n",
       "      <td>2022-05-25T10:45:28.817501</td>\n",
       "      <td>71.969780</td>\n",
       "      <td>-56.812595</td>\n",
       "      <td>9.193461</td>\n",
       "      <td>-177.962967</td>\n",
       "      <td>11.000721</td>\n",
       "      <td>1.089421</td>\n",
       "    </tr>\n",
       "  </tbody>\n",
       "</table>\n",
       "</div>"
      ],
      "text/plain": [
       "   sensor_n  frames                        time          x          y  \\\n",
       "0         1   33179  2022-05-25T10:45:28.817501  36.523415   4.732285   \n",
       "1         2   33179  2022-05-25T10:45:28.817501  17.669222  -3.788903   \n",
       "2         3   33179  2022-05-25T10:45:28.817501  36.957561   5.087067   \n",
       "3         4   33179  2022-05-25T10:45:28.817501  71.969780 -56.812595   \n",
       "\n",
       "          z     azimuth  elevation        roll  \n",
       "0  8.601525   95.271935   2.540353   52.533340  \n",
       "1  3.877875  149.130753   5.118566   12.756581  \n",
       "2  9.770947   51.868900 -24.304998  155.963577  \n",
       "3  9.193461 -177.962967  11.000721    1.089421  "
      ]
     },
     "execution_count": 9,
     "metadata": {},
     "output_type": "execute_result"
    }
   ],
   "source": [
    "t = viper.get_single_pno(pno_mode=\"standard\")\n",
    "if t is None:\n",
    "    print(True)\n",
    "t\n",
    "# t.loc[t['sensor_n'] == 1, ['z']].values - (t.loc[t['sensor_n'] == 1, ['z']].values * 0.8)"
   ]
  },
  {
   "cell_type": "code",
   "execution_count": null,
   "metadata": {},
   "outputs": [],
   "source": []
  },
  {
   "cell_type": "code",
   "execution_count": 11,
   "metadata": {},
   "outputs": [
    {
     "data": {
      "text/plain": [
       "0    34.052952\n",
       "1    35.890385\n",
       "Name: x, dtype: float64"
      ]
     },
     "execution_count": 11,
     "metadata": {},
     "output_type": "execute_result"
    }
   ],
   "source": [
    "\n",
    "s = viper.get_single_pno(pno_mode=\"standard\")\n",
    "s['x']"
   ]
  },
  {
   "cell_type": "code",
   "execution_count": 65,
   "metadata": {},
   "outputs": [
    {
     "data": {
      "text/html": [
       "<div>\n",
       "<style scoped>\n",
       "    .dataframe tbody tr th:only-of-type {\n",
       "        vertical-align: middle;\n",
       "    }\n",
       "\n",
       "    .dataframe tbody tr th {\n",
       "        vertical-align: top;\n",
       "    }\n",
       "\n",
       "    .dataframe thead th {\n",
       "        text-align: right;\n",
       "    }\n",
       "</style>\n",
       "<table border=\"1\" class=\"dataframe\">\n",
       "  <thead>\n",
       "    <tr style=\"text-align: right;\">\n",
       "      <th></th>\n",
       "      <th>sensor_n</th>\n",
       "      <th>frames</th>\n",
       "      <th>time</th>\n",
       "      <th>x</th>\n",
       "      <th>y</th>\n",
       "      <th>z</th>\n",
       "      <th>azimuth</th>\n",
       "      <th>elevation</th>\n",
       "      <th>roll</th>\n",
       "      <th>x_acc</th>\n",
       "      <th>y_acc</th>\n",
       "      <th>z_acc</th>\n",
       "      <th>xyz_acc_magnitude</th>\n",
       "    </tr>\n",
       "  </thead>\n",
       "  <tbody>\n",
       "    <tr>\n",
       "      <th>0</th>\n",
       "      <td>1</td>\n",
       "      <td>8936</td>\n",
       "      <td>2022-05-25T10:23:06.140577</td>\n",
       "      <td>35.875923</td>\n",
       "      <td>-0.334439</td>\n",
       "      <td>10.220673</td>\n",
       "      <td>97.009277</td>\n",
       "      <td>17.924194</td>\n",
       "      <td>48.054199</td>\n",
       "      <td>0.000000</td>\n",
       "      <td>-0.009277</td>\n",
       "      <td>0.000488</td>\n",
       "      <td>0.009277</td>\n",
       "    </tr>\n",
       "    <tr>\n",
       "      <th>1</th>\n",
       "      <td>2</td>\n",
       "      <td>8936</td>\n",
       "      <td>2022-05-25T10:23:06.140577</td>\n",
       "      <td>18.947844</td>\n",
       "      <td>-2.922719</td>\n",
       "      <td>3.873665</td>\n",
       "      <td>130.078125</td>\n",
       "      <td>3.779297</td>\n",
       "      <td>93.592529</td>\n",
       "      <td>0.000000</td>\n",
       "      <td>0.000000</td>\n",
       "      <td>0.000000</td>\n",
       "      <td>0.000488</td>\n",
       "    </tr>\n",
       "    <tr>\n",
       "      <th>2</th>\n",
       "      <td>3</td>\n",
       "      <td>8936</td>\n",
       "      <td>2022-05-25T10:23:06.140577</td>\n",
       "      <td>36.637363</td>\n",
       "      <td>4.648568</td>\n",
       "      <td>10.148135</td>\n",
       "      <td>34.661865</td>\n",
       "      <td>-13.408813</td>\n",
       "      <td>165.454102</td>\n",
       "      <td>0.000488</td>\n",
       "      <td>-0.001953</td>\n",
       "      <td>0.004883</td>\n",
       "      <td>0.005371</td>\n",
       "    </tr>\n",
       "    <tr>\n",
       "      <th>3</th>\n",
       "      <td>4</td>\n",
       "      <td>8936</td>\n",
       "      <td>2022-05-25T10:23:06.140577</td>\n",
       "      <td>71.340141</td>\n",
       "      <td>-58.130985</td>\n",
       "      <td>8.807875</td>\n",
       "      <td>179.445190</td>\n",
       "      <td>10.557861</td>\n",
       "      <td>-1.351318</td>\n",
       "      <td>0.026367</td>\n",
       "      <td>-0.023926</td>\n",
       "      <td>-0.127441</td>\n",
       "      <td>0.132324</td>\n",
       "    </tr>\n",
       "  </tbody>\n",
       "</table>\n",
       "</div>"
      ],
      "text/plain": [
       "   sensor_n  frames                        time          x          y  \\\n",
       "0         1    8936  2022-05-25T10:23:06.140577  35.875923  -0.334439   \n",
       "1         2    8936  2022-05-25T10:23:06.140577  18.947844  -2.922719   \n",
       "2         3    8936  2022-05-25T10:23:06.140577  36.637363   4.648568   \n",
       "3         4    8936  2022-05-25T10:23:06.140577  71.340141 -58.130985   \n",
       "\n",
       "           z     azimuth  elevation        roll     x_acc     y_acc     z_acc  \\\n",
       "0  10.220673   97.009277  17.924194   48.054199  0.000000 -0.009277  0.000488   \n",
       "1   3.873665  130.078125   3.779297   93.592529  0.000000  0.000000  0.000000   \n",
       "2  10.148135   34.661865 -13.408813  165.454102  0.000488 -0.001953  0.004883   \n",
       "3   8.807875  179.445190  10.557861   -1.351318  0.026367 -0.023926 -0.127441   \n",
       "\n",
       "   xyz_acc_magnitude  \n",
       "0           0.009277  \n",
       "1           0.000488  \n",
       "2           0.005371  \n",
       "3           0.132324  "
      ]
     },
     "execution_count": 65,
     "metadata": {},
     "output_type": "execute_result"
    }
   ],
   "source": [
    "viper.get_single_pno(pno_mode=\"acceleration\")"
   ]
  },
  {
   "cell_type": "code",
   "execution_count": 32,
   "metadata": {},
   "outputs": [
    {
     "name": "stdout",
     "output_type": "stream",
     "text": [
      "[86, 80, 82, 67, 24, 0, 0, 0, 0, 0, 0, 0, 19, 0, 0, 0, 3, 0, 0, 0, 0, 0, 0, 0, 0, 0, 0, 0, 103, 246, 0, 0]\n"
     ]
    }
   ],
   "source": [
    "viper.start_continuous()"
   ]
  },
  {
   "cell_type": "code",
   "execution_count": 156,
   "metadata": {},
   "outputs": [
    {
     "name": "stdout",
     "output_type": "stream",
     "text": [
      "[86, 80, 82, 67, 24, 0, 0, 0, 0, 0, 0, 0, 19, 0, 0, 0, 3, 0, 0, 0, 0, 0, 0, 0, 1, 0, 0, 0, 102, 10, 0, 0]\n"
     ]
    }
   ],
   "source": [
    "viper.start_continuous(pno_mode=\"acceleration\", frame_counting=\"reset_frames\")"
   ]
  },
  {
   "cell_type": "code",
   "execution_count": 155,
   "metadata": {},
   "outputs": [
    {
     "name": "stdout",
     "output_type": "stream",
     "text": [
      "[86, 80, 82, 67, 168, 0, 0, 0, 0, 0, 0, 0, 18, 0, 0, 0, 3, 0, 0, 0, 0, 0, 0, 0, 0, 0, 0, 0, 0, 0, 0, 0, 142, 23, 0, 0, 0, 0, 0, 0, 4, 0, 0, 0, 0, 66, 33, 0, 33, 129, 15, 66, 0, 156, 172, 190, 9, 143, 35, 65, 58, 7, 194, 66, 60, 74, 143, 65, 8, 60, 64, 66, 0, 0, 0, 0, 1, 66, 23, 0, 50, 149, 151, 65, 32, 14, 59, 192, 74, 241, 119, 64, 135, 21, 2, 67, 148, 67, 114, 64, 163, 51, 187, 66, 0, 0, 0, 0, 2, 2, 44, 0, 223, 141, 18, 66, 235, 169, 148, 64, 55, 97, 34, 65, 7, 156, 10, 66, 98, 199, 86, 193, 213, 119, 37, 67, 0, 0, 0, 0, 3, 194, 29, 0, 65, 174, 142, 66, 128, 94, 104, 194, 165, 191, 14, 65, 3, 130, 51, 67, 33, 141, 45, 65, 19, 3, 172, 191, 0, 0, 0, 0, 22, 51, 0, 0]\n",
      "Continuous streaming stopped\n"
     ]
    }
   ],
   "source": [
    "viper.stop_continuous()"
   ]
  },
  {
   "cell_type": "code",
   "execution_count": 33,
   "metadata": {},
   "outputs": [
    {
     "name": "stdout",
     "output_type": "stream",
     "text": [
      "CRC16 error\n",
      "CRC16 error\n"
     ]
    }
   ],
   "source": [
    "stop_con = Event()\n",
    "pool = ThreadPool(processes=1)\n",
    "async_result = pool.apply_async(viper.read_continuous, [stop_con])\n",
    "\n",
    "time.sleep(2)\n",
    "\n",
    "\n",
    "\n",
    "stop_con.set()\n",
    "df = async_result.get()\n",
    "# df = Thread(target=viper.read_continuous, args=(dev, ep, stop_con), daemon=True).start()"
   ]
  },
  {
   "cell_type": "code",
   "execution_count": 12,
   "metadata": {},
   "outputs": [
    {
     "data": {
      "text/plain": [
       "array('B', [86, 80, 82, 80, 148, 0, 0, 0, 0, 0, 0, 0, 8, 0, 0, 0, 16, 0, 0, 0, 4, 0, 0, 0, 0, 66, 53, 0, 24, 85, 86, 66, 162, 115, 170, 65, 221, 32, 44, 193, 200, 177, 30, 67, 145, 192, 172, 193, 204, 56, 10, 194, 0, 0, 0, 0, 1, 194, 51, 0, 120, 170, 87, 66, 110, 208, 190, 65, 181, 56, 80, 193, 39, 213, 44, 67, 160, 52, 64, 193, 18, 170, 119, 66, 0, 0, 0, 0, 2, 2, 49, 0, 112, 15, 86, 66, 63, 148, 214, 65, 174, 67, 135, 193, 148, 209, 4, 195, 17, 9, 197, 191, 57, 170, 187, 194, 0, 0, 0, 0, 3, 66, 37, 0, 35, 216, 80, 66, 244, 135, 6, 66, 8, 37, 193, 193, 5, 87, 2, 195, 200, 60, 138, 193, 102, 27, 180, 64, 0, 0, 0, 0, 198, 13, 0, 0])"
      ]
     },
     "execution_count": 12,
     "metadata": {},
     "output_type": "execute_result"
    }
   ],
   "source": [
    "viper.dev.read(viper.endpoint, 1024, 200)"
   ]
  },
  {
   "cell_type": "code",
   "execution_count": 29,
   "metadata": {},
   "outputs": [],
   "source": [
    "from pyper.io import io_utils\n",
    "import os\n",
    "import pickle"
   ]
  },
  {
   "cell_type": "code",
   "execution_count": 34,
   "metadata": {},
   "outputs": [],
   "source": [
    "df1 = pd.DataFrame()\n",
    "for i in range(len(df)):\n",
    "    df2 = io_utils.extract_data_from_acceleration_frame(df[i], \"continuous\", orientation=\"euler_degree\", conv_factor=viper.conf['conversion_factor']['euler_degree'])\n",
    "    df1 = pd.concat([df1, df2], ignore_index=True)\n",
    "# df1[30:100]"
   ]
  },
  {
   "cell_type": "code",
   "execution_count": 35,
   "metadata": {},
   "outputs": [
    {
     "data": {
      "text/html": [
       "<div>\n",
       "<style scoped>\n",
       "    .dataframe tbody tr th:only-of-type {\n",
       "        vertical-align: middle;\n",
       "    }\n",
       "\n",
       "    .dataframe tbody tr th {\n",
       "        vertical-align: top;\n",
       "    }\n",
       "\n",
       "    .dataframe thead th {\n",
       "        text-align: right;\n",
       "    }\n",
       "</style>\n",
       "<table border=\"1\" class=\"dataframe\">\n",
       "  <thead>\n",
       "    <tr style=\"text-align: right;\">\n",
       "      <th></th>\n",
       "      <th>sensor_n</th>\n",
       "      <th>frames</th>\n",
       "      <th>time</th>\n",
       "      <th>x</th>\n",
       "      <th>y</th>\n",
       "      <th>z</th>\n",
       "      <th>azimuth</th>\n",
       "      <th>elevation</th>\n",
       "      <th>roll</th>\n",
       "      <th>x_acc</th>\n",
       "      <th>y_acc</th>\n",
       "      <th>z_acc</th>\n",
       "      <th>xyz_acc_magnitude</th>\n",
       "    </tr>\n",
       "  </thead>\n",
       "  <tbody>\n",
       "    <tr>\n",
       "      <th>0</th>\n",
       "      <td>1</td>\n",
       "      <td>19251</td>\n",
       "      <td>2022-05-11T19:05:32.298738</td>\n",
       "      <td>-7.690121</td>\n",
       "      <td>-37.475742</td>\n",
       "      <td>2.827264</td>\n",
       "      <td>113.631592</td>\n",
       "      <td>92.894897</td>\n",
       "      <td>-77.124023</td>\n",
       "      <td>-11.331543</td>\n",
       "      <td>8.348633</td>\n",
       "      <td>0.0</td>\n",
       "      <td>0.0</td>\n",
       "    </tr>\n",
       "    <tr>\n",
       "      <th>1</th>\n",
       "      <td>2</td>\n",
       "      <td>19251</td>\n",
       "      <td>2022-05-11T19:05:32.298738</td>\n",
       "      <td>9.257854</td>\n",
       "      <td>34.658493</td>\n",
       "      <td>-2.937850</td>\n",
       "      <td>124.738770</td>\n",
       "      <td>91.675415</td>\n",
       "      <td>33.107300</td>\n",
       "      <td>15.423340</td>\n",
       "      <td>-7.643066</td>\n",
       "      <td>0.0</td>\n",
       "      <td>0.0</td>\n",
       "    </tr>\n",
       "    <tr>\n",
       "      <th>2</th>\n",
       "      <td>3</td>\n",
       "      <td>19251</td>\n",
       "      <td>2022-05-11T19:05:32.298738</td>\n",
       "      <td>14.260909</td>\n",
       "      <td>35.652046</td>\n",
       "      <td>-2.911900</td>\n",
       "      <td>-134.187012</td>\n",
       "      <td>93.229980</td>\n",
       "      <td>-96.613770</td>\n",
       "      <td>-14.860840</td>\n",
       "      <td>-7.698730</td>\n",
       "      <td>0.0</td>\n",
       "      <td>0.0</td>\n",
       "    </tr>\n",
       "    <tr>\n",
       "      <th>3</th>\n",
       "      <td>4</td>\n",
       "      <td>19251</td>\n",
       "      <td>2022-05-11T19:05:32.298738</td>\n",
       "      <td>12.422385</td>\n",
       "      <td>37.503506</td>\n",
       "      <td>-2.701510</td>\n",
       "      <td>-112.648315</td>\n",
       "      <td>94.400024</td>\n",
       "      <td>-119.003906</td>\n",
       "      <td>-13.751465</td>\n",
       "      <td>8.226562</td>\n",
       "      <td>0.0</td>\n",
       "      <td>0.0</td>\n",
       "    </tr>\n",
       "    <tr>\n",
       "      <th>4</th>\n",
       "      <td>1</td>\n",
       "      <td>19253</td>\n",
       "      <td>2022-05-11T19:05:32.303977</td>\n",
       "      <td>-7.691439</td>\n",
       "      <td>-37.475430</td>\n",
       "      <td>2.825135</td>\n",
       "      <td>109.319458</td>\n",
       "      <td>92.894897</td>\n",
       "      <td>-66.483765</td>\n",
       "      <td>-11.529297</td>\n",
       "      <td>8.348633</td>\n",
       "      <td>0.0</td>\n",
       "      <td>0.0</td>\n",
       "    </tr>\n",
       "    <tr>\n",
       "      <th>...</th>\n",
       "      <td>...</td>\n",
       "      <td>...</td>\n",
       "      <td>...</td>\n",
       "      <td>...</td>\n",
       "      <td>...</td>\n",
       "      <td>...</td>\n",
       "      <td>...</td>\n",
       "      <td>...</td>\n",
       "      <td>...</td>\n",
       "      <td>...</td>\n",
       "      <td>...</td>\n",
       "      <td>...</td>\n",
       "      <td>...</td>\n",
       "    </tr>\n",
       "    <tr>\n",
       "      <th>955</th>\n",
       "      <td>4</td>\n",
       "      <td>19731</td>\n",
       "      <td>2022-05-11T19:05:34.296069</td>\n",
       "      <td>12.428126</td>\n",
       "      <td>37.505886</td>\n",
       "      <td>-2.700237</td>\n",
       "      <td>-114.235840</td>\n",
       "      <td>94.400024</td>\n",
       "      <td>-148.337402</td>\n",
       "      <td>-12.555664</td>\n",
       "      <td>8.226562</td>\n",
       "      <td>0.0</td>\n",
       "      <td>0.0</td>\n",
       "    </tr>\n",
       "    <tr>\n",
       "      <th>956</th>\n",
       "      <td>1</td>\n",
       "      <td>19733</td>\n",
       "      <td>2022-05-11T19:05:34.303885</td>\n",
       "      <td>-7.694642</td>\n",
       "      <td>-37.478592</td>\n",
       "      <td>2.820153</td>\n",
       "      <td>103.024292</td>\n",
       "      <td>92.894897</td>\n",
       "      <td>-9.635010</td>\n",
       "      <td>-9.214355</td>\n",
       "      <td>8.348633</td>\n",
       "      <td>0.0</td>\n",
       "      <td>0.0</td>\n",
       "    </tr>\n",
       "    <tr>\n",
       "      <th>957</th>\n",
       "      <td>2</td>\n",
       "      <td>19733</td>\n",
       "      <td>2022-05-11T19:05:34.303885</td>\n",
       "      <td>9.255428</td>\n",
       "      <td>34.664059</td>\n",
       "      <td>-2.933860</td>\n",
       "      <td>-171.221924</td>\n",
       "      <td>91.675415</td>\n",
       "      <td>-13.474731</td>\n",
       "      <td>13.995605</td>\n",
       "      <td>-7.643066</td>\n",
       "      <td>0.0</td>\n",
       "      <td>0.0</td>\n",
       "    </tr>\n",
       "    <tr>\n",
       "      <th>958</th>\n",
       "      <td>3</td>\n",
       "      <td>19733</td>\n",
       "      <td>2022-05-11T19:05:34.303885</td>\n",
       "      <td>14.263865</td>\n",
       "      <td>35.655289</td>\n",
       "      <td>-2.906322</td>\n",
       "      <td>-137.944336</td>\n",
       "      <td>93.229980</td>\n",
       "      <td>81.842651</td>\n",
       "      <td>11.651367</td>\n",
       "      <td>-7.698730</td>\n",
       "      <td>0.0</td>\n",
       "      <td>0.0</td>\n",
       "    </tr>\n",
       "    <tr>\n",
       "      <th>959</th>\n",
       "      <td>4</td>\n",
       "      <td>19733</td>\n",
       "      <td>2022-05-11T19:05:34.303885</td>\n",
       "      <td>12.427993</td>\n",
       "      <td>37.505783</td>\n",
       "      <td>-2.702368</td>\n",
       "      <td>-114.411621</td>\n",
       "      <td>94.400024</td>\n",
       "      <td>163.289795</td>\n",
       "      <td>-10.626953</td>\n",
       "      <td>8.226562</td>\n",
       "      <td>0.0</td>\n",
       "      <td>0.0</td>\n",
       "    </tr>\n",
       "  </tbody>\n",
       "</table>\n",
       "<p>960 rows × 13 columns</p>\n",
       "</div>"
      ],
      "text/plain": [
       "     sensor_n  frames                        time          x          y  \\\n",
       "0           1   19251  2022-05-11T19:05:32.298738  -7.690121 -37.475742   \n",
       "1           2   19251  2022-05-11T19:05:32.298738   9.257854  34.658493   \n",
       "2           3   19251  2022-05-11T19:05:32.298738  14.260909  35.652046   \n",
       "3           4   19251  2022-05-11T19:05:32.298738  12.422385  37.503506   \n",
       "4           1   19253  2022-05-11T19:05:32.303977  -7.691439 -37.475430   \n",
       "..        ...     ...                         ...        ...        ...   \n",
       "955         4   19731  2022-05-11T19:05:34.296069  12.428126  37.505886   \n",
       "956         1   19733  2022-05-11T19:05:34.303885  -7.694642 -37.478592   \n",
       "957         2   19733  2022-05-11T19:05:34.303885   9.255428  34.664059   \n",
       "958         3   19733  2022-05-11T19:05:34.303885  14.263865  35.655289   \n",
       "959         4   19733  2022-05-11T19:05:34.303885  12.427993  37.505783   \n",
       "\n",
       "            z     azimuth  elevation        roll      x_acc     y_acc  z_acc  \\\n",
       "0    2.827264  113.631592  92.894897  -77.124023 -11.331543  8.348633    0.0   \n",
       "1   -2.937850  124.738770  91.675415   33.107300  15.423340 -7.643066    0.0   \n",
       "2   -2.911900 -134.187012  93.229980  -96.613770 -14.860840 -7.698730    0.0   \n",
       "3   -2.701510 -112.648315  94.400024 -119.003906 -13.751465  8.226562    0.0   \n",
       "4    2.825135  109.319458  92.894897  -66.483765 -11.529297  8.348633    0.0   \n",
       "..        ...         ...        ...         ...        ...       ...    ...   \n",
       "955 -2.700237 -114.235840  94.400024 -148.337402 -12.555664  8.226562    0.0   \n",
       "956  2.820153  103.024292  92.894897   -9.635010  -9.214355  8.348633    0.0   \n",
       "957 -2.933860 -171.221924  91.675415  -13.474731  13.995605 -7.643066    0.0   \n",
       "958 -2.906322 -137.944336  93.229980   81.842651  11.651367 -7.698730    0.0   \n",
       "959 -2.702368 -114.411621  94.400024  163.289795 -10.626953  8.226562    0.0   \n",
       "\n",
       "     xyz_acc_magnitude  \n",
       "0                  0.0  \n",
       "1                  0.0  \n",
       "2                  0.0  \n",
       "3                  0.0  \n",
       "4                  0.0  \n",
       "..                 ...  \n",
       "955                0.0  \n",
       "956                0.0  \n",
       "957                0.0  \n",
       "958                0.0  \n",
       "959                0.0  \n",
       "\n",
       "[960 rows x 13 columns]"
      ]
     },
     "execution_count": 35,
     "metadata": {},
     "output_type": "execute_result"
    }
   ],
   "source": [
    "df1"
   ]
  },
  {
   "cell_type": "code",
   "execution_count": 3,
   "metadata": {},
   "outputs": [
    {
     "ename": "error",
     "evalue": "unpack requires a buffer of 4 bytes",
     "output_type": "error",
     "traceback": [
      "\u001b[1;31m---------------------------------------------------------------------------\u001b[0m",
      "\u001b[1;31merror\u001b[0m                                     Traceback (most recent call last)",
      "\u001b[1;32mc:\\Users\\gpjos\\Documents\\git\\ViperTerminal\\pyper.ipynb Cell 3'\u001b[0m in \u001b[0;36m<module>\u001b[1;34m\u001b[0m\n\u001b[1;32m----> <a href='vscode-notebook-cell:/c%3A/Users/gpjos/Documents/git/ViperTerminal/pyper.ipynb#ch0000002?line=0'>1</a>\u001b[0m viper\u001b[39m.\u001b[39;49mget_single_pno(dev\u001b[39m=\u001b[39;49mdev, ep\u001b[39m=\u001b[39;49mep, pno_mode\u001b[39m=\u001b[39;49m\u001b[39m\"\u001b[39;49m\u001b[39mstandard\u001b[39;49m\u001b[39m\"\u001b[39;49m)\n",
      "File \u001b[1;32mc:\\Users\\gpjos\\Documents\\git\\ViperTerminal\\pyper\\viper_interface\\viper_classes.py:123\u001b[0m, in \u001b[0;36mPolhemusViper.get_single_pno\u001b[1;34m(self, dev, ep, pno_mode)\u001b[0m\n\u001b[0;32m    <a href='file:///c%3A/Users/gpjos/Documents/git/ViperTerminal/pyper/viper_interface/viper_classes.py?line=120'>121</a>\u001b[0m     \u001b[39mprint\u001b[39m(\u001b[39m\"\u001b[39m\u001b[39mCRC16 error\u001b[39m\u001b[39m\"\u001b[39m)\n\u001b[0;32m    <a href='file:///c%3A/Users/gpjos/Documents/git/ViperTerminal/pyper/viper_interface/viper_classes.py?line=121'>122</a>\u001b[0m \u001b[39melse\u001b[39;00m:\n\u001b[1;32m--> <a href='file:///c%3A/Users/gpjos/Documents/git/ViperTerminal/pyper/viper_interface/viper_classes.py?line=122'>123</a>\u001b[0m     df \u001b[39m=\u001b[39m extract_data_from_frame(resp)\n\u001b[0;32m    <a href='file:///c%3A/Users/gpjos/Documents/git/ViperTerminal/pyper/viper_interface/viper_classes.py?line=123'>124</a>\u001b[0m \u001b[39mreturn\u001b[39;00m df\n",
      "File \u001b[1;32mc:\\Users\\gpjos\\Documents\\git\\ViperTerminal\\pyper\\io\\io_utils.py:34\u001b[0m, in \u001b[0;36mextract_data_from_frame\u001b[1;34m(frame)\u001b[0m\n\u001b[0;32m     <a href='file:///c%3A/Users/gpjos/Documents/git/ViperTerminal/pyper/io/io_utils.py?line=31'>32</a>\u001b[0m in_list\u001b[39m.\u001b[39mappend(intlist_to_float(frame[start_index \u001b[39m+\u001b[39m \u001b[39m4\u001b[39m : start_index \u001b[39m+\u001b[39m \u001b[39m8\u001b[39m]))\n\u001b[0;32m     <a href='file:///c%3A/Users/gpjos/Documents/git/ViperTerminal/pyper/io/io_utils.py?line=32'>33</a>\u001b[0m in_list\u001b[39m.\u001b[39mappend(intlist_to_float(frame[start_index \u001b[39m+\u001b[39m \u001b[39m8\u001b[39m : start_index \u001b[39m+\u001b[39m \u001b[39m12\u001b[39m]))\n\u001b[1;32m---> <a href='file:///c%3A/Users/gpjos/Documents/git/ViperTerminal/pyper/io/io_utils.py?line=33'>34</a>\u001b[0m in_list\u001b[39m.\u001b[39mappend(intlist_to_float(frame[start_index \u001b[39m+\u001b[39;49m \u001b[39m12\u001b[39;49m : start_index \u001b[39m+\u001b[39;49m \u001b[39m16\u001b[39;49m]))\n\u001b[0;32m     <a href='file:///c%3A/Users/gpjos/Documents/git/ViperTerminal/pyper/io/io_utils.py?line=34'>35</a>\u001b[0m in_list\u001b[39m.\u001b[39mappend(intlist_to_float(frame[start_index \u001b[39m+\u001b[39m \u001b[39m16\u001b[39m : start_index \u001b[39m+\u001b[39m \u001b[39m20\u001b[39m]))\n\u001b[0;32m     <a href='file:///c%3A/Users/gpjos/Documents/git/ViperTerminal/pyper/io/io_utils.py?line=35'>36</a>\u001b[0m in_list\u001b[39m.\u001b[39mappend(intlist_to_float(frame[start_index \u001b[39m+\u001b[39m \u001b[39m20\u001b[39m : start_index \u001b[39m+\u001b[39m \u001b[39m24\u001b[39m]))\n",
      "File \u001b[1;32mc:\\Users\\gpjos\\Documents\\git\\ViperTerminal\\pyper\\io\\io_utils.py:13\u001b[0m, in \u001b[0;36mintlist_to_float\u001b[1;34m(int_list)\u001b[0m\n\u001b[0;32m     <a href='file:///c%3A/Users/gpjos/Documents/git/ViperTerminal/pyper/io/io_utils.py?line=10'>11</a>\u001b[0m \u001b[39mdef\u001b[39;00m \u001b[39mintlist_to_float\u001b[39m(int_list):\n\u001b[0;32m     <a href='file:///c%3A/Users/gpjos/Documents/git/ViperTerminal/pyper/io/io_utils.py?line=11'>12</a>\u001b[0m     h \u001b[39m=\u001b[39m \u001b[39m\"\u001b[39m\u001b[39m\"\u001b[39m\u001b[39m.\u001b[39mjoin(\u001b[39mf\u001b[39m\u001b[39m\"\u001b[39m\u001b[39m{\u001b[39;00mi\u001b[39m:\u001b[39;00m\u001b[39m02x\u001b[39m\u001b[39m}\u001b[39;00m\u001b[39m\"\u001b[39m \u001b[39mfor\u001b[39;00m i \u001b[39min\u001b[39;00m int_list)\n\u001b[1;32m---> <a href='file:///c%3A/Users/gpjos/Documents/git/ViperTerminal/pyper/io/io_utils.py?line=12'>13</a>\u001b[0m     \u001b[39mreturn\u001b[39;00m struct\u001b[39m.\u001b[39;49munpack(\u001b[39m\"\u001b[39;49m\u001b[39m<f\u001b[39;49m\u001b[39m\"\u001b[39;49m, \u001b[39mbytes\u001b[39;49m\u001b[39m.\u001b[39;49mfromhex(h))[\u001b[39m0\u001b[39m]\n",
      "\u001b[1;31merror\u001b[0m: unpack requires a buffer of 4 bytes"
     ]
    }
   ],
   "source": [
    "viper.get_single_pno(dev=dev, ep=ep, pno_mode=\"standard\")"
   ]
  }
 ],
 "metadata": {
  "interpreter": {
   "hash": "56b76e7bb3e1279da2c6e2e3e7cbd33b3cbad79fe8024dd10c9aa580b3d95262"
  },
  "kernelspec": {
   "display_name": "Python 3.10.4 ('stats_anal')",
   "language": "python",
   "name": "python3"
  },
  "language_info": {
   "codemirror_mode": {
    "name": "ipython",
    "version": 3
   },
   "file_extension": ".py",
   "mimetype": "text/x-python",
   "name": "python",
   "nbconvert_exporter": "python",
   "pygments_lexer": "ipython3",
   "version": "3.10.4"
  },
  "orig_nbformat": 4
 },
 "nbformat": 4,
 "nbformat_minor": 2
}
